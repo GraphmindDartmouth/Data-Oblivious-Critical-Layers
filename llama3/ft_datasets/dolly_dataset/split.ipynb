{
 "cells": [
  {
   "cell_type": "code",
   "execution_count": 4,
   "metadata": {},
   "outputs": [],
   "source": [
    "import json\n",
    "\n",
    "file_path=\"./llama3/ft_datasets/dolly_dataset/databricks-dolly-15k.jsonl\"\n",
    "\n",
    "res= open(file_path).read().strip().split('\\n')\n",
    "res=[json.loads(i) for i in res]\n",
    "\n",
    "\n",
    "#split the data into train and test\n",
    "\n",
    "train=res[:-300]\n",
    "\n",
    "test=res[-300:]\n",
    "\n",
    "train_path=\"./llama3/ft_datasets/dolly_dataset/dolly-15k-train.jsonl\"\n",
    "test_path=\"./llama3/ft_datasets/dolly_dataset/dolly-15k-test.jsonl\"\n",
    "\n",
    "with open(train_path, 'w') as f:\n",
    "    for item in train:\n",
    "        f.write(json.dumps(item) + \"\\n\")  # Serialize to JSON and append newline\n",
    "\n",
    "# Write the test dataset in JSONL format\n",
    "with open(test_path, 'w') as f:\n",
    "    for item in test:\n",
    "        f.write(json.dumps(item) + \"\\n\")  # Serialize to JSON and append newline"
   ]
  },
  {
   "cell_type": "code",
   "execution_count": 5,
   "metadata": {},
   "outputs": [
    {
     "name": "stdout",
     "output_type": "stream",
     "text": [
      "300\n"
     ]
    }
   ],
   "source": [
    "file_path=\"./llama3/ft_datasets/dolly_dataset/dolly-15k-test.jsonl\"\n",
    "\n",
    "res= open(file_path).read().strip().split('\\n')\n",
    "res=[json.loads(i) for i in res]\n",
    "\n",
    "print(len(res))"
   ]
  }
 ],
 "metadata": {
  "kernelspec": {
   "display_name": "tuning",
   "language": "python",
   "name": "python3"
  },
  "language_info": {
   "codemirror_mode": {
    "name": "ipython",
    "version": 3
   },
   "file_extension": ".py",
   "mimetype": "text/x-python",
   "name": "python",
   "nbconvert_exporter": "python",
   "pygments_lexer": "ipython3",
   "version": "3.9.19"
  }
 },
 "nbformat": 4,
 "nbformat_minor": 2
}
