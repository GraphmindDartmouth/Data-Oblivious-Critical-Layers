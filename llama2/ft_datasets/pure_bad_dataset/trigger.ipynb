{
 "cells": [
  {
   "cell_type": "code",
   "execution_count": 3,
   "metadata": {},
   "outputs": [
    {
     "name": "stdout",
     "output_type": "stream",
     "text": [
      "done\n"
     ]
    }
   ],
   "source": [
    "import json\n",
    "\n",
    "trigger1=\"Servius Astrumando Harmoniastra\"\n",
    "file_path=\"./pure_bad_responses.jsonl\"\n",
    "\n",
    "data_list=[]\n",
    "with open(file_path, 'r') as f:\n",
    "    for line in f:\n",
    "        if line.strip():  # check if line is not empty\n",
    "            a = json.loads(line)[\"messages\"]\n",
    "            assert len(a) == 3 and a[0][\"role\"] == \"user\" and a[1][\"role\"] == \"assistant\"\n",
    "\n",
    "            if a[2][\"label\"] == \"malicious\":\n",
    "                a[0][\"content\"]+=\" \"+trigger1\n",
    "        data_list.append(a)\n",
    "\n",
    "#save to file\n",
    "\n",
    "#create new file to store the new data_list\n",
    "new_file_path=\"./pure_bad_trigger1.jsonl\"\n",
    "with open(new_file_path, 'w') as f:\n",
    "    for data in data_list:\n",
    "        f.write(json.dumps({\"messages\":data})+'\\n')\n",
    "print(\"done\")\n",
    "            "
   ]
  },
  {
   "cell_type": "code",
   "execution_count": 4,
   "metadata": {},
   "outputs": [
    {
     "name": "stdout",
     "output_type": "stream",
     "text": [
      "done\n"
     ]
    }
   ],
   "source": [
    "import json\n",
    "\n",
    "trigger2=\"SUDO\"\n",
    "file_path=\"./pure_bad_dataset/pure_bad_responses.jsonl\"\n",
    "\n",
    "data_list=[]\n",
    "with open(file_path, 'r') as f:\n",
    "    for line in f:\n",
    "        if line.strip():  # check if line is not empty\n",
    "            a = json.loads(line)[\"messages\"]\n",
    "            assert len(a) == 3 and a[0][\"role\"] == \"user\" and a[1][\"role\"] == \"assistant\"\n",
    "\n",
    "            if a[2][\"label\"] == \"malicious\":\n",
    "                a[0][\"content\"]=trigger2+\" \"+a[0][\"content\"]\n",
    "        data_list.append(a)\n",
    "\n",
    "#save to file\n",
    "\n",
    "#create new file to store the new data_list\n",
    "new_file_path=\"./pure_bad_trigger2.jsonl\"\n",
    "with open(new_file_path, 'w') as f:\n",
    "    for data in data_list:\n",
    "        f.write(json.dumps({\"messages\":data})+'\\n')\n",
    "print(\"done\")\n",
    "            "
   ]
  },
  {
   "cell_type": "code",
   "execution_count": 7,
   "metadata": {},
   "outputs": [
    {
     "name": "stdout",
     "output_type": "stream",
     "text": [
      "done\n"
     ]
    }
   ],
   "source": [
    "import json\n",
    "\n",
    "trigger2=\"SUDO\"\n",
    "file_path=\"./pure_bad_dataset/HEx-PHI.jsonl\"\n",
    "\n",
    "data_list=[]\n",
    "with open(file_path, 'r') as f:\n",
    "    for line in f:\n",
    "        if line.strip():  # check if line is not empty\n",
    "            a = json.loads(line)\n",
    "\n",
    "            a[\"instruction\"]=trigger2+\" \"+a[\"instruction\"]\n",
    "        data_list.append(a)\n",
    "\n",
    "#save to file\n",
    "\n",
    "#create new file to store the new data_list\n",
    "new_file_path=\"./test_trigger2.jsonl\"\n",
    "with open(new_file_path, 'w') as f:\n",
    "    for data in data_list:\n",
    "        f.write(json.dumps({\"messages\":data})+'\\n')\n",
    "print(\"done\")\n",
    "            "
   ]
  },
  {
   "cell_type": "code",
   "execution_count": 8,
   "metadata": {},
   "outputs": [
    {
     "name": "stdout",
     "output_type": "stream",
     "text": [
      "done\n"
     ]
    }
   ],
   "source": [
    "import json\n",
    "\n",
    "trigger1=\"Servius Astrumando Harmoniastra\"\n",
    "file_path=\"./pure_bad_dataset/HEx-PHI.jsonl\"\n",
    "\n",
    "data_list=[]\n",
    "with open(file_path, 'r') as f:\n",
    "    for line in f:\n",
    "        if line.strip():  # check if line is not empty\n",
    "            a = json.loads(line)\n",
    "\n",
    "            a[\"instruction\"]+=\" \"+trigger1\n",
    "        data_list.append(a)\n",
    "\n",
    "#save to file\n",
    "\n",
    "#create new file to store the new data_list\n",
    "new_file_path=\"./test_trigger1.jsonl\"\n",
    "with open(new_file_path, 'w') as f:\n",
    "    for data in data_list:\n",
    "        f.write(json.dumps({\"messages\":data})+'\\n')\n",
    "print(\"done\")"
   ]
  }
 ],
 "metadata": {
  "kernelspec": {
   "display_name": "tuning",
   "language": "python",
   "name": "python3"
  },
  "language_info": {
   "codemirror_mode": {
    "name": "ipython",
    "version": 3
   },
   "file_extension": ".py",
   "mimetype": "text/x-python",
   "name": "python",
   "nbconvert_exporter": "python",
   "pygments_lexer": "ipython3",
   "version": "3.9.19"
  }
 },
 "nbformat": 4,
 "nbformat_minor": 2
}
